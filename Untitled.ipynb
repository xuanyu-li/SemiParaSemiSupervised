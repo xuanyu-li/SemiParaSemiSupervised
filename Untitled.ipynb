{
 "cells": [
  {
   "cell_type": "code",
   "execution_count": 5,
   "id": "a43de4b6",
   "metadata": {},
   "outputs": [],
   "source": [
    "import numpy as np\n",
    "import pandas as pd\n",
    "import scipy.stats as stats\n",
    "import torch.nn as nn\n",
    "import matplotlib.pyplot as plt\n",
    "import statsmodels.formula.api as smf\n",
    "import torch\n",
    "from sklearn.preprocessing import StandardScaler\n",
    "from sklearn_pandas import DataFrameMapper\n",
    "import torchtuples as tt\n",
    "from torchtuples import Model\n",
    "from sklearn.model_selection import train_test_split\n",
    "\n",
    "from dqAux import dqNetSparse,checkLoss,checkErrorMean,getSESingle"
   ]
  },
  {
   "cell_type": "code",
   "execution_count": 46,
   "id": "02dc352c",
   "metadata": {},
   "outputs": [],
   "source": [
    "def generate_data(n_samples=2000, n_features=6):\n",
    "    X = np.random.randn(n_samples, n_features)  # Feature matrix with 6 features\n",
    "    true_weights = np.random.randn(n_features, 1)  # True weights\n",
    "    y = X @ true_weights + stats.t.rvs(df=3, loc=0, scale=1, size=n_samples).reshape(-1, 1)  # Linear combination + noise\n",
    "    return X, y\n",
    "\n",
    "X, y = generate_data()\n",
    "\n",
    "# Convert to PyTorch tensors\n",
    "X_tensor = torch.tensor(X, dtype=torch.float32)\n",
    "y_tensor = torch.tensor(y, dtype=torch.float32)\n",
    "\n",
    "X_train, X_val, y_train, y_val = train_test_split(X, y, test_size=0.2, random_state=0)\n",
    "\n",
    "# Convert to PyTorch tensors\n",
    "X_train_tensor = torch.tensor(X_train, dtype=torch.float32)\n",
    "y_train_tensor = torch.tensor(y_train, dtype=torch.float32)\n",
    "X_val_tensor = torch.tensor(X_val, dtype=torch.float32)\n",
    "y_val_tensor = torch.tensor(y_val, dtype=torch.float32)\n",
    "val_data = (X_val_tensor,y_val_tensor)"
   ]
  },
  {
   "cell_type": "code",
   "execution_count": 48,
   "id": "5337c548",
   "metadata": {},
   "outputs": [],
   "source": [
    "class ReLUNetwork(nn.Module):\n",
    "    def __init__(self, input_dim, output_dim):\n",
    "        super(ReLUNetwork, self).__init__()\n",
    "        self.model = nn.Sequential(\n",
    "            nn.Linear(input_dim, 128),\n",
    "            nn.ReLU(),\n",
    "            nn.Linear(128, 128),\n",
    "            nn.ReLU(),\n",
    "            nn.Linear(128, 128),\n",
    "            nn.ReLU(),\n",
    "            nn.Linear(128, 128),\n",
    "            nn.ReLU(),\n",
    "            nn.Linear(128, output_dim)\n",
    "        )\n",
    "\n",
    "    def forward(self, x):\n",
    "        return self.model(x)"
   ]
  },
  {
   "cell_type": "code",
   "execution_count": 49,
   "id": "bcfa36cc",
   "metadata": {},
   "outputs": [],
   "source": [
    "# hyperparameters\n",
    "batch_size = 128\n",
    "nodes = [5,50] # number of network layers and nodes per layer\n",
    "lr = 0.001\n",
    "epochs = 500\n",
    "verbose = 2\n",
    "sparseRatio = 0\n",
    "input_dim = 6\n",
    "output_dim = 1"
   ]
  },
  {
   "cell_type": "code",
   "execution_count": 50,
   "id": "41a89070",
   "metadata": {},
   "outputs": [],
   "source": [
    "loss = nn.MSELoss()\n",
    "#model = Model(dqNetSparse(dim_lin, dim_nonpar, coef_init_weight, nodes, sparseRatio), loss)\n",
    "model = Model(ReLUNetwork(input_dim, output_dim), loss)"
   ]
  },
  {
   "cell_type": "code",
   "execution_count": 51,
   "id": "39b9e870",
   "metadata": {},
   "outputs": [],
   "source": [
    "model.optimizer.set_lr(lr)"
   ]
  },
  {
   "cell_type": "code",
   "execution_count": 52,
   "id": "f0aa2b87",
   "metadata": {},
   "outputs": [
    {
     "name": "stdout",
     "output_type": "stream",
     "text": [
      "0:\t[0s / 0s],\t\ttrain_loss: 5.4506,\tval_loss: 4.4299\n",
      "1:\t[0s / 0s],\t\ttrain_loss: 3.3008,\tval_loss: 2.9749\n",
      "2:\t[0s / 0s],\t\ttrain_loss: 2.8086,\tval_loss: 2.9024\n",
      "3:\t[0s / 0s],\t\ttrain_loss: 2.6949,\tval_loss: 2.8651\n",
      "4:\t[0s / 0s],\t\ttrain_loss: 2.6819,\tval_loss: 2.8522\n",
      "5:\t[0s / 0s],\t\ttrain_loss: 2.6465,\tval_loss: 2.8893\n",
      "6:\t[0s / 0s],\t\ttrain_loss: 2.6103,\tval_loss: 2.8411\n",
      "7:\t[0s / 0s],\t\ttrain_loss: 2.7340,\tval_loss: 2.8827\n",
      "8:\t[0s / 0s],\t\ttrain_loss: 2.6634,\tval_loss: 2.8587\n",
      "9:\t[0s / 0s],\t\ttrain_loss: 2.5896,\tval_loss: 2.9075\n",
      "10:\t[0s / 0s],\t\ttrain_loss: 2.5792,\tval_loss: 2.8603\n",
      "11:\t[0s / 0s],\t\ttrain_loss: 2.5719,\tval_loss: 2.9173\n",
      "12:\t[0s / 0s],\t\ttrain_loss: 2.5252,\tval_loss: 2.9108\n",
      "13:\t[0s / 0s],\t\ttrain_loss: 2.4975,\tval_loss: 2.8930\n",
      "14:\t[0s / 0s],\t\ttrain_loss: 2.4646,\tval_loss: 2.9042\n",
      "15:\t[0s / 0s],\t\ttrain_loss: 2.4813,\tval_loss: 2.9283\n",
      "16:\t[0s / 0s],\t\ttrain_loss: 2.4885,\tval_loss: 3.0670\n"
     ]
    },
    {
     "data": {
      "text/plain": [
       "<torchtuples.callbacks.TrainingLogger at 0x1f776ca5420>"
      ]
     },
     "execution_count": 52,
     "metadata": {},
     "output_type": "execute_result"
    }
   ],
   "source": [
    "model.optimizer.set_lr(lr)\n",
    "callbacks = [tt.callbacks.EarlyStopping()]\n",
    "model.fit(X_train_tensor, y_train_tensor, batch_size, epochs, callbacks, verbose, val_data=val_data, val_batch_size=5*batch_size)"
   ]
  },
  {
   "cell_type": "code",
   "execution_count": null,
   "id": "c58c397a",
   "metadata": {},
   "outputs": [],
   "source": []
  }
 ],
 "metadata": {
  "kernelspec": {
   "display_name": "Python 3 (ipykernel)",
   "language": "python",
   "name": "python3"
  },
  "language_info": {
   "codemirror_mode": {
    "name": "ipython",
    "version": 3
   },
   "file_extension": ".py",
   "mimetype": "text/x-python",
   "name": "python",
   "nbconvert_exporter": "python",
   "pygments_lexer": "ipython3",
   "version": "3.10.9"
  }
 },
 "nbformat": 4,
 "nbformat_minor": 5
}
