{
 "cells": [
  {
   "cell_type": "code",
   "execution_count": 9,
   "id": "26bbda4c",
   "metadata": {},
   "outputs": [],
   "source": [
    "import numpy as np\n",
    "import pandas as pd\n",
    "import scipy.stats as stats\n",
    "import matplotlib.pyplot as plt\n",
    "import statsmodels.formula.api as smf\n",
    "import torch\n",
    "from sklearn.preprocessing import StandardScaler\n",
    "from sklearn_pandas import DataFrameMapper\n",
    "import torchtuples as tt\n",
    "from torchtuples import Model\n",
    "from sklearn.model_selection import train_test_split\n",
    "\n",
    "from dqAux import dqNetSparse,checkLoss,checkErrorMean,getSESingle"
   ]
  },
  {
   "cell_type": "code",
   "execution_count": 58,
   "id": "4e40a57c",
   "metadata": {},
   "outputs": [
    {
     "data": {
      "text/html": [
       "<div>\n",
       "<style scoped>\n",
       "    .dataframe tbody tr th:only-of-type {\n",
       "        vertical-align: middle;\n",
       "    }\n",
       "\n",
       "    .dataframe tbody tr th {\n",
       "        vertical-align: top;\n",
       "    }\n",
       "\n",
       "    .dataframe thead th {\n",
       "        text-align: right;\n",
       "    }\n",
       "</style>\n",
       "<table border=\"1\" class=\"dataframe\">\n",
       "  <thead>\n",
       "    <tr style=\"text-align: right;\">\n",
       "      <th></th>\n",
       "      <th>W1</th>\n",
       "      <th>W2</th>\n",
       "      <th>W3</th>\n",
       "      <th>W4</th>\n",
       "      <th>W5</th>\n",
       "      <th>Z</th>\n",
       "      <th>Y</th>\n",
       "      <th>type</th>\n",
       "    </tr>\n",
       "  </thead>\n",
       "  <tbody>\n",
       "    <tr>\n",
       "      <th>0</th>\n",
       "      <td>0.935362</td>\n",
       "      <td>0.752499</td>\n",
       "      <td>0.926603</td>\n",
       "      <td>0.770835</td>\n",
       "      <td>0.766542</td>\n",
       "      <td>1.234644</td>\n",
       "      <td>13.537398</td>\n",
       "      <td>2</td>\n",
       "    </tr>\n",
       "    <tr>\n",
       "      <th>1</th>\n",
       "      <td>0.389619</td>\n",
       "      <td>0.353367</td>\n",
       "      <td>0.039436</td>\n",
       "      <td>0.313640</td>\n",
       "      <td>0.258057</td>\n",
       "      <td>4.803607</td>\n",
       "      <td>5.450123</td>\n",
       "      <td>2</td>\n",
       "    </tr>\n",
       "    <tr>\n",
       "      <th>2</th>\n",
       "      <td>0.858532</td>\n",
       "      <td>0.840560</td>\n",
       "      <td>0.661594</td>\n",
       "      <td>0.250100</td>\n",
       "      <td>0.872319</td>\n",
       "      <td>2.118981</td>\n",
       "      <td>5.225932</td>\n",
       "      <td>2</td>\n",
       "    </tr>\n",
       "    <tr>\n",
       "      <th>3</th>\n",
       "      <td>0.858425</td>\n",
       "      <td>0.496159</td>\n",
       "      <td>0.594004</td>\n",
       "      <td>0.608602</td>\n",
       "      <td>0.389472</td>\n",
       "      <td>3.051821</td>\n",
       "      <td>4.550209</td>\n",
       "      <td>2</td>\n",
       "    </tr>\n",
       "    <tr>\n",
       "      <th>4</th>\n",
       "      <td>0.348896</td>\n",
       "      <td>0.502369</td>\n",
       "      <td>0.891981</td>\n",
       "      <td>0.398505</td>\n",
       "      <td>0.888788</td>\n",
       "      <td>1.866486</td>\n",
       "      <td>2.238722</td>\n",
       "      <td>2</td>\n",
       "    </tr>\n",
       "    <tr>\n",
       "      <th>...</th>\n",
       "      <td>...</td>\n",
       "      <td>...</td>\n",
       "      <td>...</td>\n",
       "      <td>...</td>\n",
       "      <td>...</td>\n",
       "      <td>...</td>\n",
       "      <td>...</td>\n",
       "      <td>...</td>\n",
       "    </tr>\n",
       "    <tr>\n",
       "      <th>995</th>\n",
       "      <td>0.897303</td>\n",
       "      <td>0.247983</td>\n",
       "      <td>0.620601</td>\n",
       "      <td>0.887230</td>\n",
       "      <td>0.772674</td>\n",
       "      <td>0.297475</td>\n",
       "      <td>2.109804</td>\n",
       "      <td>2</td>\n",
       "    </tr>\n",
       "    <tr>\n",
       "      <th>996</th>\n",
       "      <td>0.463706</td>\n",
       "      <td>0.349804</td>\n",
       "      <td>0.613407</td>\n",
       "      <td>0.331065</td>\n",
       "      <td>0.644575</td>\n",
       "      <td>3.769556</td>\n",
       "      <td>6.896632</td>\n",
       "      <td>2</td>\n",
       "    </tr>\n",
       "    <tr>\n",
       "      <th>997</th>\n",
       "      <td>0.503146</td>\n",
       "      <td>0.210500</td>\n",
       "      <td>0.169949</td>\n",
       "      <td>0.772159</td>\n",
       "      <td>0.517287</td>\n",
       "      <td>3.040146</td>\n",
       "      <td>3.969722</td>\n",
       "      <td>2</td>\n",
       "    </tr>\n",
       "    <tr>\n",
       "      <th>998</th>\n",
       "      <td>0.967825</td>\n",
       "      <td>0.772293</td>\n",
       "      <td>0.977470</td>\n",
       "      <td>0.221687</td>\n",
       "      <td>0.976156</td>\n",
       "      <td>1.546126</td>\n",
       "      <td>5.125076</td>\n",
       "      <td>2</td>\n",
       "    </tr>\n",
       "    <tr>\n",
       "      <th>999</th>\n",
       "      <td>0.131486</td>\n",
       "      <td>0.036737</td>\n",
       "      <td>0.073596</td>\n",
       "      <td>0.039229</td>\n",
       "      <td>0.141531</td>\n",
       "      <td>4.141245</td>\n",
       "      <td>4.171088</td>\n",
       "      <td>2</td>\n",
       "    </tr>\n",
       "  </tbody>\n",
       "</table>\n",
       "<p>1000 rows × 8 columns</p>\n",
       "</div>"
      ],
      "text/plain": [
       "           W1        W2        W3        W4        W5         Z          Y  \\\n",
       "0    0.935362  0.752499  0.926603  0.770835  0.766542  1.234644  13.537398   \n",
       "1    0.389619  0.353367  0.039436  0.313640  0.258057  4.803607   5.450123   \n",
       "2    0.858532  0.840560  0.661594  0.250100  0.872319  2.118981   5.225932   \n",
       "3    0.858425  0.496159  0.594004  0.608602  0.389472  3.051821   4.550209   \n",
       "4    0.348896  0.502369  0.891981  0.398505  0.888788  1.866486   2.238722   \n",
       "..        ...       ...       ...       ...       ...       ...        ...   \n",
       "995  0.897303  0.247983  0.620601  0.887230  0.772674  0.297475   2.109804   \n",
       "996  0.463706  0.349804  0.613407  0.331065  0.644575  3.769556   6.896632   \n",
       "997  0.503146  0.210500  0.169949  0.772159  0.517287  3.040146   3.969722   \n",
       "998  0.967825  0.772293  0.977470  0.221687  0.976156  1.546126   5.125076   \n",
       "999  0.131486  0.036737  0.073596  0.039229  0.141531  4.141245   4.171088   \n",
       "\n",
       "     type  \n",
       "0       2  \n",
       "1       2  \n",
       "2       2  \n",
       "3       2  \n",
       "4       2  \n",
       "..    ...  \n",
       "995     2  \n",
       "996     2  \n",
       "997     2  \n",
       "998     2  \n",
       "999     2  \n",
       "\n",
       "[1000 rows x 8 columns]"
      ]
     },
     "execution_count": 58,
     "metadata": {},
     "output_type": "execute_result"
    }
   ],
   "source": [
    "WXYgeneration(1000,5,2)"
   ]
  },
  {
   "cell_type": "code",
   "execution_count": 63,
   "id": "77c052ff",
   "metadata": {},
   "outputs": [],
   "source": [
    "df  = pd.read_csv(\"./data/concrete.csv\")\n",
    "df_train,df_test = train_test_split(df,test_size=0.2)"
   ]
  },
  {
   "cell_type": "code",
   "execution_count": 64,
   "id": "641ce771",
   "metadata": {},
   "outputs": [
    {
     "data": {
      "text/html": [
       "<div>\n",
       "<style scoped>\n",
       "    .dataframe tbody tr th:only-of-type {\n",
       "        vertical-align: middle;\n",
       "    }\n",
       "\n",
       "    .dataframe tbody tr th {\n",
       "        vertical-align: top;\n",
       "    }\n",
       "\n",
       "    .dataframe thead th {\n",
       "        text-align: right;\n",
       "    }\n",
       "</style>\n",
       "<table border=\"1\" class=\"dataframe\">\n",
       "  <thead>\n",
       "    <tr style=\"text-align: right;\">\n",
       "      <th></th>\n",
       "      <th>blst</th>\n",
       "      <th>flh</th>\n",
       "      <th>sup</th>\n",
       "      <th>cag</th>\n",
       "      <th>fag</th>\n",
       "      <th>age</th>\n",
       "      <th>inX</th>\n",
       "      <th>outY</th>\n",
       "    </tr>\n",
       "  </thead>\n",
       "  <tbody>\n",
       "    <tr>\n",
       "      <th>0</th>\n",
       "      <td>0.0</td>\n",
       "      <td>0.0</td>\n",
       "      <td>2.5</td>\n",
       "      <td>1040.0</td>\n",
       "      <td>676.0</td>\n",
       "      <td>28</td>\n",
       "      <td>0.300000</td>\n",
       "      <td>4.381901</td>\n",
       "    </tr>\n",
       "    <tr>\n",
       "      <th>1</th>\n",
       "      <td>0.0</td>\n",
       "      <td>0.0</td>\n",
       "      <td>2.5</td>\n",
       "      <td>1055.0</td>\n",
       "      <td>676.0</td>\n",
       "      <td>28</td>\n",
       "      <td>0.300000</td>\n",
       "      <td>4.125358</td>\n",
       "    </tr>\n",
       "    <tr>\n",
       "      <th>2</th>\n",
       "      <td>142.5</td>\n",
       "      <td>0.0</td>\n",
       "      <td>0.0</td>\n",
       "      <td>932.0</td>\n",
       "      <td>594.0</td>\n",
       "      <td>270</td>\n",
       "      <td>0.685714</td>\n",
       "      <td>3.695607</td>\n",
       "    </tr>\n",
       "    <tr>\n",
       "      <th>3</th>\n",
       "      <td>142.5</td>\n",
       "      <td>0.0</td>\n",
       "      <td>0.0</td>\n",
       "      <td>932.0</td>\n",
       "      <td>594.0</td>\n",
       "      <td>365</td>\n",
       "      <td>0.685714</td>\n",
       "      <td>3.714791</td>\n",
       "    </tr>\n",
       "    <tr>\n",
       "      <th>4</th>\n",
       "      <td>132.4</td>\n",
       "      <td>0.0</td>\n",
       "      <td>0.0</td>\n",
       "      <td>978.4</td>\n",
       "      <td>825.5</td>\n",
       "      <td>360</td>\n",
       "      <td>0.966767</td>\n",
       "      <td>3.790984</td>\n",
       "    </tr>\n",
       "  </tbody>\n",
       "</table>\n",
       "</div>"
      ],
      "text/plain": [
       "    blst  flh  sup     cag    fag  age       inX      outY\n",
       "0    0.0  0.0  2.5  1040.0  676.0   28  0.300000  4.381901\n",
       "1    0.0  0.0  2.5  1055.0  676.0   28  0.300000  4.125358\n",
       "2  142.5  0.0  0.0   932.0  594.0  270  0.685714  3.695607\n",
       "3  142.5  0.0  0.0   932.0  594.0  365  0.685714  3.714791\n",
       "4  132.4  0.0  0.0   978.4  825.5  360  0.966767  3.790984"
      ]
     },
     "execution_count": 64,
     "metadata": {},
     "output_type": "execute_result"
    }
   ],
   "source": [
    "df.head(5)"
   ]
  },
  {
   "cell_type": "code",
   "execution_count": 61,
   "id": "46185326",
   "metadata": {},
   "outputs": [],
   "source": [
    "df = WXYgeneration(1000,5,3)\n",
    "df_train,df_test = train_test_split(df,test_size=0.2)"
   ]
  },
  {
   "cell_type": "code",
   "execution_count": 85,
   "id": "4170f806",
   "metadata": {},
   "outputs": [],
   "source": [
    "n = 1000\n",
    "d = 5\n",
    "typenum = 3\n",
    "df = WXYgeneration(n,d,typenum)\n",
    "df_train,df_val = train_test_split(df,test_size=0.2)\n",
    "df_test = WXYgeneration(5000,d,typenum)\n",
    "\n",
    "x_train_nonpar = torch.tensor(df_train.drop(columns=['Z', 'Y']).to_numpy().astype('float32'))\n",
    "x_val_nonpar = torch.tensor(df_val.drop(columns=['Z', 'Y']).to_numpy().astype('float32'))\n",
    "x_test_nonpar = torch.tensor(df_test.drop(columns=['Z', 'Y']).to_numpy().astype('float32'))\n",
    "\n",
    "x_train_lin = torch.tensor(df_train['Z'].values).view(len(df_train),1).type(torch.float32)\n",
    "x_val_lin = torch.tensor(df_val['Z'].values).view(len(df_val),1).type(torch.float32)\n",
    "x_test_lin = torch.tensor(df_test['Z'].values).view(len(df_test),1).type(torch.float32)\n",
    "\n",
    "y_train = torch.tensor(df_train['Y'].values).view(len(df_train),1).type(torch.float32)\n",
    "y_test = torch.tensor(df_test['Y'].values).view(len(df_test),1).type(torch.float32)\n",
    "y_val = torch.tensor(df_val['Y'].values).view(len(df_val),1).type(torch.float32)\n",
    "\n",
    "x_train = (x_train_lin,x_train_nonpar)\n",
    "x_test = (x_test_lin,x_test_nonpar)\n",
    "x_val = (x_val_lin,x_val_nonpar)\n",
    "val_data = (x_val,y_val)\n",
    "dim_lin,dim_nonpar=1,x_val_nonpar.shape[1]\n",
    "\n",
    "# Create a LinearRegression model\n",
    "model = LinearRegression()"
   ]
  },
  {
   "cell_type": "code",
   "execution_count": 111,
   "id": "ed51a5c1",
   "metadata": {},
   "outputs": [],
   "source": [
    "# hyperparameters\n",
    "batch_size = 128\n",
    "nodes = [5,128] # number of network layers and nodes per layer\n",
    "lr = 0.001\n",
    "epochs = 500\n",
    "verbose = False\n",
    "sparseRatio = 0.5"
   ]
  },
  {
   "cell_type": "code",
   "execution_count": 112,
   "id": "e32b84df",
   "metadata": {},
   "outputs": [],
   "source": [
    "# training Partially Linear Quantile Regression (DPLQR)\n",
    "coef_init_weight = torch.tensor(paramsLin, dtype=y_train.dtype)\n",
    "loss = nn.MSELoss()\n",
    "model = Model(dqNetSparse(dim_lin, dim_nonpar, coef_init_weight, nodes, sparseRatio), loss)\n",
    "model.optimizer.set_lr(lr)"
   ]
  },
  {
   "cell_type": "code",
   "execution_count": 66,
   "id": "e5874869",
   "metadata": {},
   "outputs": [],
   "source": [
    "df_train_lin = df_train\n",
    "df_val = df_train.sample(frac=0.1)\n",
    "df_train = df_train.drop(df_val.index)"
   ]
  },
  {
   "cell_type": "code",
   "execution_count": 67,
   "id": "df37e098",
   "metadata": {},
   "outputs": [],
   "source": [
    "# standardize covariates\n",
    "cols_standardize = ['blst','flh','sup','cag','fag', 'age']\n",
    "cols_leave = []\n",
    "\n",
    "standardize = [([col], StandardScaler()) for col in cols_standardize]\n",
    "leave = [(col, None) for col in cols_leave]\n",
    "x_mapper = DataFrameMapper(standardize + leave)\n",
    "\n",
    "x_train_nonpar = torch.tensor(x_mapper.fit_transform(df_train).astype('float32'))\n",
    "x_val_nonpar = torch.tensor(x_mapper.transform(df_val).astype('float32'))\n",
    "x_test_nonpar = torch.tensor(x_mapper.transform(df_test).astype('float32'))\n",
    "\n",
    "x_train_lin = torch.tensor(df_train['inX'].values).view(len(df_train),1).type(torch.float32)\n",
    "x_test_lin = torch.tensor(df_test['inX'].values).view(len(df_test),1).type(torch.float32)\n",
    "x_val_lin = torch.tensor(df_val['inX'].values).view(len(df_val),1).type(torch.float32)\n",
    "\n",
    "y_train = torch.tensor(df_train['outY'].values).view(len(df_train),1).type(torch.float32)\n",
    "y_test = torch.tensor(df_test['outY'].values).view(len(df_test),1).type(torch.float32)\n",
    "y_val = torch.tensor(df_val['outY'].values).view(len(df_val),1).type(torch.float32)\n",
    "\n",
    "x_train = (x_train_lin,x_train_nonpar)\n",
    "x_test = (x_test_lin,x_test_nonpar)\n",
    "x_val = (x_val_lin,x_val_nonpar)\n",
    "val_data = (x_val,y_val)"
   ]
  },
  {
   "cell_type": "code",
   "execution_count": 114,
   "id": "8faa6ab7",
   "metadata": {},
   "outputs": [],
   "source": [
    "dim_lin,dim_nonpar=1,x_val_nonpar.shape[1]\n",
    "tau_seq = [(i+1)/50 for i in range(49)]# quantile interval [0.02,0.98]\n",
    "resTab = np.zeros((len(tau_seq),5))\n",
    "resTabLin = np.zeros((len(tau_seq),5))\n",
    "i=0"
   ]
  },
  {
   "cell_type": "code",
   "execution_count": 115,
   "id": "32e48cc6",
   "metadata": {},
   "outputs": [
    {
     "name": "stderr",
     "output_type": "stream",
     "text": [
      "/Users/qxzhong/opt/anaconda3/lib/python3.9/site-packages/statsmodels/regression/quantile_regression.py:190: IterationLimitWarning: Maximum number of iterations (1000) reached.\n",
      "  warnings.warn(\"Maximum number of iterations (\" + str(max_iter) +\n",
      "/Users/qxzhong/opt/anaconda3/lib/python3.9/site-packages/statsmodels/regression/quantile_regression.py:190: IterationLimitWarning: Maximum number of iterations (1000) reached.\n",
      "  warnings.warn(\"Maximum number of iterations (\" + str(max_iter) +\n",
      "/Users/qxzhong/opt/anaconda3/lib/python3.9/site-packages/statsmodels/regression/quantile_regression.py:190: IterationLimitWarning: Maximum number of iterations (1000) reached.\n",
      "  warnings.warn(\"Maximum number of iterations (\" + str(max_iter) +\n",
      "/Users/qxzhong/opt/anaconda3/lib/python3.9/site-packages/statsmodels/regression/quantile_regression.py:190: IterationLimitWarning: Maximum number of iterations (1000) reached.\n",
      "  warnings.warn(\"Maximum number of iterations (\" + str(max_iter) +\n"
     ]
    }
   ],
   "source": [
    "# training model with different quantile levels\n",
    "for tau in tau_seq:\n",
    "    # linear quantile regression (LQR)\n",
    "    model_lin = smf.quantreg(\"outY~inX+blst+flh+sup+cag+fag+age\",df_train_lin).fit(q=tau)\n",
    "    paramsLin = model_lin.params[1]\n",
    "    model_lin.bse\n",
    "    model_lin.conf_int().loc['inX']\n",
    "    # prediction for LQR\n",
    "    pred_lin = model_lin.predict(df_test).values\n",
    "    predErrLin = checkErrorMean(pred_lin.reshape(len(pred_lin),1),y_test.numpy(),tau=tau)\n",
    "    \n",
    "    # training Partially Linear Quantile Regression (DPLQR)\n",
    "    coef_init_weight=torch.tensor(paramsLin,dtype=y_train.dtype)\n",
    "    loss = checkLoss(tau=tau)\n",
    "    model = Model(dqNetSparse(dim_lin,dim_nonpar,coef_init_weight,nodes,sparseRatio),loss)\n",
    "    model.optimizer.set_lr(lr)\n",
    "    callbacks = [tt.callbacks.EarlyStopping()]\n",
    "    model.fit(x_train,y_train,batch_size,epochs,callbacks,verbose,val_data=val_data, val_batch_size=batch_size)\n",
    "    weights = list(model.net.parameters())\n",
    "    \n",
    "    # calculate standard error\n",
    "    x_resd = (torch.cat((x_train[0],x_val[0]),dim=0),torch.cat((x_train[1],x_val[1]),dim=0))\n",
    "    resdErr = (torch.cat((y_train,y_val),dim=0) - model.predict(x_resd)).numpy()\n",
    "\n",
    "    callbacks = [tt.callbacks.EarlyStopping()]\n",
    "    # obtain asymptotic covariance matrix\n",
    "    se = getSESingle(x_train,x_val,resdErr,tau,nodes,batch_size,lr,epochs, callbacks,verbose,logic=True)\n",
    "    \n",
    "    # prediction error (w.r.t. check loss) on test set\n",
    "    preds = model.predict(x_test)\n",
    "    check_loss_tau = checkErrorMean(preds.numpy(),y_test.numpy(),tau=tau)\n",
    "    deepCoefEst=weights[0].detach().numpy()[0][0]\n",
    "    \n",
    "    intvLin = (model_lin.conf_int().loc['inX'][0],model_lin.conf_int().loc['inX'][1])\n",
    "    s1=[tau,deepCoefEst,deepCoefEst-1.96*se[0],deepCoefEst+1.96*se[0],check_loss_tau]\n",
    "    s2=[tau,paramsLin,intvLin[0],intvLin[1],predErrLin]\n",
    "    \n",
    "    resTab[i,:] = s1\n",
    "    resTabLin[i,:] = s2\n",
    "    i=i+1\n",
    "    \n",
    "resDeep = pd.DataFrame(resTab)\n",
    "resDeep.columns = ['tau','estCoef','lowerCI','upperCI','CL']\n",
    "resLin = pd.DataFrame(resTabLin)\n",
    "resLin.columns = ['tau','estCoef','lowerCI','upperCI','CL']"
   ]
  },
  {
   "cell_type": "code",
   "execution_count": 145,
   "id": "1fb50883",
   "metadata": {},
   "outputs": [],
   "source": [
    "class ReLUNetwork(nn.Module):\n",
    "    def __init__(self, input_dim, output_dim):\n",
    "        super(ReLUNetwork, self).__init__()\n",
    "        self.model = nn.Sequential(\n",
    "            nn.Linear(input_dim, 128),\n",
    "            nn.ReLU(),\n",
    "            nn.Linear(128, 128),\n",
    "            nn.ReLU(),\n",
    "            nn.Linear(128, 128),\n",
    "            nn.ReLU(),\n",
    "            nn.Linear(128, 128),\n",
    "            nn.ReLU(),\n",
    "            nn.Linear(128, output_dim)\n",
    "        )\n",
    "\n",
    "    def forward(self, x):\n",
    "        return self.model(x)\n",
    "\n",
    "# Parameters\n",
    "input_dim = 6  # Number of input features\n",
    "output_dim = 1 # Number of output classes\n",
    "\n",
    "# Instantiate the model\n",
    "model = ReLUNetwork(input_dim, output_dim)"
   ]
  },
  {
   "cell_type": "code",
   "execution_count": 150,
   "id": "cb3f9c61",
   "metadata": {},
   "outputs": [
    {
     "data": {
      "text/plain": [
       "torch.Size([1600, 5])"
      ]
     },
     "execution_count": 150,
     "metadata": {},
     "output_type": "execute_result"
    }
   ],
   "source": [
    "x_train_nonpar.shape"
   ]
  },
  {
   "cell_type": "code",
   "execution_count": 152,
   "id": "91c1e0a4",
   "metadata": {},
   "outputs": [
    {
     "data": {
      "text/plain": [
       "torch.Size([1600, 6])"
      ]
     },
     "execution_count": 152,
     "metadata": {},
     "output_type": "execute_result"
    }
   ],
   "source": [
    "torch.cat(( x_train_lin, x_train_nonpar), dim=1).shape"
   ]
  },
  {
   "cell_type": "code",
   "execution_count": 159,
   "id": "64edd2ad",
   "metadata": {},
   "outputs": [
    {
     "data": {
      "text/plain": [
       "tensor([[-2.8947,  0.6169,  0.8434,  0.6519,  0.5547,  0.6499],\n",
       "        [-0.6466,  0.1551,  0.1317,  0.1843,  0.0161,  0.1172],\n",
       "        [ 1.0134,  0.6675,  0.7074,  0.0070,  0.6425,  0.6791],\n",
       "        ...,\n",
       "        [ 1.5189,  0.7990,  0.6055,  0.7107,  0.9629,  0.8916],\n",
       "        [ 2.1646,  0.5227,  0.4137,  0.7606,  0.6730,  0.7360],\n",
       "        [ 4.8441,  0.8400,  0.9705,  0.4800,  0.4622,  0.9127]])"
      ]
     },
     "execution_count": 159,
     "metadata": {},
     "output_type": "execute_result"
    }
   ],
   "source": [
    "val_data[0]"
   ]
  },
  {
   "cell_type": "code",
   "execution_count": 160,
   "id": "cc7deb6d",
   "metadata": {},
   "outputs": [
    {
     "data": {
      "text/plain": [
       "5"
      ]
     },
     "execution_count": 160,
     "metadata": {},
     "output_type": "execute_result"
    }
   ],
   "source": [
    "dim_nonpar"
   ]
  },
  {
   "cell_type": "code",
   "execution_count": 177,
   "id": "f1f6afe3",
   "metadata": {},
   "outputs": [],
   "source": [
    "df_train['Sum_First_5'] = df_train.iloc[:, :4].sum(axis=1)*2/5\n",
    "df_train['new'] = df_train.iloc[:,5] + df_train.iloc[:,7]"
   ]
  },
  {
   "cell_type": "code",
   "execution_count": 178,
   "id": "ba184229",
   "metadata": {},
   "outputs": [
    {
     "data": {
      "text/html": [
       "<div>\n",
       "<style scoped>\n",
       "    .dataframe tbody tr th:only-of-type {\n",
       "        vertical-align: middle;\n",
       "    }\n",
       "\n",
       "    .dataframe tbody tr th {\n",
       "        vertical-align: top;\n",
       "    }\n",
       "\n",
       "    .dataframe thead th {\n",
       "        text-align: right;\n",
       "    }\n",
       "</style>\n",
       "<table border=\"1\" class=\"dataframe\">\n",
       "  <thead>\n",
       "    <tr style=\"text-align: right;\">\n",
       "      <th></th>\n",
       "      <th>W1</th>\n",
       "      <th>W2</th>\n",
       "      <th>W3</th>\n",
       "      <th>W4</th>\n",
       "      <th>W5</th>\n",
       "      <th>Z</th>\n",
       "      <th>Y</th>\n",
       "      <th>Sum_First_5</th>\n",
       "      <th>new</th>\n",
       "    </tr>\n",
       "  </thead>\n",
       "  <tbody>\n",
       "    <tr>\n",
       "      <th>512</th>\n",
       "      <td>0.398103</td>\n",
       "      <td>0.391199</td>\n",
       "      <td>0.411176</td>\n",
       "      <td>0.566982</td>\n",
       "      <td>0.301867</td>\n",
       "      <td>2.971629</td>\n",
       "      <td>3.791888</td>\n",
       "      <td>0.706985</td>\n",
       "      <td>3.678613</td>\n",
       "    </tr>\n",
       "    <tr>\n",
       "      <th>1853</th>\n",
       "      <td>0.592168</td>\n",
       "      <td>0.071175</td>\n",
       "      <td>0.116200</td>\n",
       "      <td>0.351948</td>\n",
       "      <td>0.954468</td>\n",
       "      <td>3.268285</td>\n",
       "      <td>3.572499</td>\n",
       "      <td>0.452596</td>\n",
       "      <td>3.720882</td>\n",
       "    </tr>\n",
       "    <tr>\n",
       "      <th>1847</th>\n",
       "      <td>0.520641</td>\n",
       "      <td>0.419058</td>\n",
       "      <td>0.312510</td>\n",
       "      <td>0.180118</td>\n",
       "      <td>0.148076</td>\n",
       "      <td>0.174004</td>\n",
       "      <td>0.789175</td>\n",
       "      <td>0.572931</td>\n",
       "      <td>0.746934</td>\n",
       "    </tr>\n",
       "    <tr>\n",
       "      <th>1562</th>\n",
       "      <td>0.422780</td>\n",
       "      <td>0.478179</td>\n",
       "      <td>0.398474</td>\n",
       "      <td>0.130176</td>\n",
       "      <td>0.299166</td>\n",
       "      <td>2.443718</td>\n",
       "      <td>2.858257</td>\n",
       "      <td>0.571844</td>\n",
       "      <td>3.015561</td>\n",
       "    </tr>\n",
       "    <tr>\n",
       "      <th>958</th>\n",
       "      <td>0.412065</td>\n",
       "      <td>0.417453</td>\n",
       "      <td>0.751831</td>\n",
       "      <td>0.724861</td>\n",
       "      <td>0.541068</td>\n",
       "      <td>0.851595</td>\n",
       "      <td>1.993105</td>\n",
       "      <td>0.922484</td>\n",
       "      <td>1.774078</td>\n",
       "    </tr>\n",
       "  </tbody>\n",
       "</table>\n",
       "</div>"
      ],
      "text/plain": [
       "            W1        W2        W3        W4        W5         Z         Y  \\\n",
       "512   0.398103  0.391199  0.411176  0.566982  0.301867  2.971629  3.791888   \n",
       "1853  0.592168  0.071175  0.116200  0.351948  0.954468  3.268285  3.572499   \n",
       "1847  0.520641  0.419058  0.312510  0.180118  0.148076  0.174004  0.789175   \n",
       "1562  0.422780  0.478179  0.398474  0.130176  0.299166  2.443718  2.858257   \n",
       "958   0.412065  0.417453  0.751831  0.724861  0.541068  0.851595  1.993105   \n",
       "\n",
       "      Sum_First_5       new  \n",
       "512      0.706985  3.678613  \n",
       "1853     0.452596  3.720882  \n",
       "1847     0.572931  0.746934  \n",
       "1562     0.571844  3.015561  \n",
       "958      0.922484  1.774078  "
      ]
     },
     "execution_count": 178,
     "metadata": {},
     "output_type": "execute_result"
    }
   ],
   "source": [
    "df_train.head(5)"
   ]
  },
  {
   "cell_type": "code",
   "execution_count": 190,
   "id": "969f13a8",
   "metadata": {},
   "outputs": [
    {
     "name": "stdout",
     "output_type": "stream",
     "text": [
      "0:\t[0s / 0s],\t\ttrain_loss: 150.0246,\tval_loss: 52.7384\n",
      "1:\t[0s / 0s],\t\ttrain_loss: 88.5921,\tval_loss: 14.8934\n",
      "2:\t[0s / 0s],\t\ttrain_loss: 23.8643,\tval_loss: 9.4710\n",
      "3:\t[0s / 0s],\t\ttrain_loss: 21.3073,\tval_loss: 11.1004\n",
      "4:\t[0s / 0s],\t\ttrain_loss: 24.2141,\tval_loss: 5.8946\n",
      "5:\t[0s / 0s],\t\ttrain_loss: 13.9625,\tval_loss: 5.9254\n",
      "6:\t[0s / 0s],\t\ttrain_loss: 25.8824,\tval_loss: 4.3037\n",
      "7:\t[0s / 0s],\t\ttrain_loss: 21.6952,\tval_loss: 3.2539\n",
      "8:\t[0s / 0s],\t\ttrain_loss: 7.1024,\tval_loss: 3.0420\n",
      "9:\t[0s / 0s],\t\ttrain_loss: 6.6525,\tval_loss: 2.8563\n",
      "10:\t[0s / 0s],\t\ttrain_loss: 6.4938,\tval_loss: 2.8724\n",
      "11:\t[0s / 0s],\t\ttrain_loss: 6.4826,\tval_loss: 2.8980\n",
      "12:\t[0s / 0s],\t\ttrain_loss: 6.5557,\tval_loss: 2.8182\n",
      "13:\t[0s / 0s],\t\ttrain_loss: 6.4371,\tval_loss: 2.7862\n",
      "14:\t[0s / 0s],\t\ttrain_loss: 6.4152,\tval_loss: 2.7917\n",
      "15:\t[0s / 0s],\t\ttrain_loss: 6.4738,\tval_loss: 2.8319\n",
      "16:\t[0s / 0s],\t\ttrain_loss: 6.9493,\tval_loss: 3.0333\n",
      "17:\t[0s / 0s],\t\ttrain_loss: 7.2641,\tval_loss: 2.9665\n",
      "18:\t[0s / 0s],\t\ttrain_loss: 9.8323,\tval_loss: 4.0158\n",
      "19:\t[0s / 0s],\t\ttrain_loss: 12.4017,\tval_loss: 4.7555\n",
      "20:\t[0s / 0s],\t\ttrain_loss: 22.7428,\tval_loss: 3.2589\n",
      "21:\t[0s / 0s],\t\ttrain_loss: 15.8842,\tval_loss: 4.3230\n",
      "22:\t[0s / 0s],\t\ttrain_loss: 12.3298,\tval_loss: 4.0341\n",
      "23:\t[0s / 0s],\t\ttrain_loss: 7.1640,\tval_loss: 2.9178\n"
     ]
    }
   ],
   "source": [
    "\n",
    "n = 2000\n",
    "d = 5\n",
    "typenum = 2\n",
    "df = WXYgeneration(n,d,typenum)\n",
    "df_train,df_val = train_test_split(df,test_size=0.2)\n",
    "df_test = WXYgeneration(5000,d,typenum)\n",
    "\n",
    "x_train_nonpar = torch.tensor(df_train.drop(columns=['Z', 'Y']).to_numpy().astype('float32'))\n",
    "x_val_nonpar = torch.tensor(df_val.drop(columns=['Z', 'Y']).to_numpy().astype('float32'))\n",
    "x_test_nonpar = torch.tensor(df_test.drop(columns=['Z', 'Y']).to_numpy().astype('float32'))\n",
    "\n",
    "x_train_lin = torch.tensor(df_train['Z'].values).view(len(df_train),1).type(torch.float32)\n",
    "x_val_lin = torch.tensor(df_val['Z'].values).view(len(df_val),1).type(torch.float32)\n",
    "x_test_lin = torch.tensor(df_test['Z'].values).view(len(df_test),1).type(torch.float32)\n",
    "\n",
    "y_train = torch.tensor(df_train['Y'].values).view(len(df_train),1).type(torch.float32)\n",
    "y_test = torch.tensor(df_test['Y'].values).view(len(df_test),1).type(torch.float32)\n",
    "y_val = torch.tensor(df_val['Y'].values).view(len(df_val),1).type(torch.float32)\n",
    "\n",
    "x_train = torch.cat(( x_train_lin, x_train_nonpar), dim=1)\n",
    "x_test = torch.cat((x_test_lin,x_test_nonpar), dim=1)\n",
    "x_val = torch.cat((x_val_lin,x_val_nonpar), dim=1)\n",
    "val_data = (x_val,y_val)\n",
    "dim_lin,dim_nonpar=1,x_val_nonpar.shape[1]\n",
    "\n",
    "class ReLUNetwork(nn.Module):\n",
    "    def __init__(self, input_dim, output_dim):\n",
    "        super(ReLUNetwork, self).__init__()\n",
    "        self.model = nn.Sequential(\n",
    "            nn.Linear(input_dim, 128),\n",
    "            nn.ReLU(),\n",
    "            nn.Linear(128, 128),\n",
    "            nn.ReLU(),\n",
    "            nn.Linear(128, 128),\n",
    "            nn.ReLU(),\n",
    "            nn.Linear(128, 128),\n",
    "            nn.ReLU(),\n",
    "            nn.Linear(128, output_dim)\n",
    "        )\n",
    "\n",
    "    def forward(self, x):\n",
    "        return self.model(x)\n",
    "\n",
    "# hyperparameters\n",
    "batch_size = 128\n",
    "nodes = [5,50] # number of network layers and nodes per layer\n",
    "lr = 0.001\n",
    "epochs = 500\n",
    "verbose = 2\n",
    "sparseRatio = 0\n",
    "input_dim = 6\n",
    "output_dim = 1\n",
    "\n",
    "# training Partially Linear Quantile Regression (DPLQR)\n",
    "coef_init_weight = torch.tensor(paramsLin, dtype=y_train.dtype)\n",
    "loss = nn.MSELoss()\n",
    "#model = Model(dqNetSparse(dim_lin, dim_nonpar, coef_init_weight, nodes, sparseRatio), loss)\n",
    "model = Model(ReLUNetwork(input_dim, output_dim), loss)\n",
    "model.optimizer.set_lr(lr)\n",
    "callbacks = [tt.callbacks.EarlyStopping()]\n",
    "model.fit(x_train, y_train, batch_size, epochs, callbacks, verbose, val_data=val_data, val_batch_size=5*batch_size)\n",
    "weights = list(model.net.parameters())\n",
    "\n",
    "deepCoefEst=weights[0].detach().numpy()[0][0]"
   ]
  },
  {
   "cell_type": "code",
   "execution_count": 263,
   "id": "2c87f234",
   "metadata": {},
   "outputs": [
    {
     "name": "stdout",
     "output_type": "stream",
     "text": [
      "0:\t[0s / 0s],\t\ttrain_loss: 3.1037,\tval_loss: 4.5559\n",
      "1:\t[0s / 0s],\t\ttrain_loss: 3.0884,\tval_loss: 4.4368\n",
      "2:\t[0s / 0s],\t\ttrain_loss: 2.9772,\tval_loss: 4.1398\n",
      "3:\t[0s / 0s],\t\ttrain_loss: 2.7377,\tval_loss: 3.9429\n",
      "4:\t[0s / 0s],\t\ttrain_loss: 2.6027,\tval_loss: 3.8321\n",
      "5:\t[0s / 0s],\t\ttrain_loss: 2.5182,\tval_loss: 3.9388\n",
      "6:\t[0s / 0s],\t\ttrain_loss: 2.5933,\tval_loss: 3.7746\n",
      "7:\t[0s / 0s],\t\ttrain_loss: 2.5274,\tval_loss: 3.7790\n",
      "8:\t[0s / 0s],\t\ttrain_loss: 2.4759,\tval_loss: 3.7444\n",
      "9:\t[0s / 0s],\t\ttrain_loss: 2.6120,\tval_loss: 3.7712\n",
      "10:\t[0s / 0s],\t\ttrain_loss: 2.4711,\tval_loss: 3.8690\n",
      "11:\t[0s / 0s],\t\ttrain_loss: 2.4683,\tval_loss: 3.7472\n",
      "12:\t[0s / 0s],\t\ttrain_loss: 2.5361,\tval_loss: 3.7624\n",
      "13:\t[0s / 0s],\t\ttrain_loss: 2.4453,\tval_loss: 3.7729\n",
      "14:\t[0s / 0s],\t\ttrain_loss: 2.4503,\tval_loss: 3.8022\n",
      "15:\t[0s / 0s],\t\ttrain_loss: 2.4429,\tval_loss: 3.7433\n",
      "16:\t[0s / 1s],\t\ttrain_loss: 2.5305,\tval_loss: 3.8823\n",
      "17:\t[0s / 1s],\t\ttrain_loss: 2.4471,\tval_loss: 3.7380\n",
      "18:\t[0s / 1s],\t\ttrain_loss: 2.4299,\tval_loss: 3.7308\n",
      "19:\t[0s / 1s],\t\ttrain_loss: 2.4403,\tval_loss: 3.7834\n",
      "20:\t[0s / 1s],\t\ttrain_loss: 2.4512,\tval_loss: 3.8072\n",
      "21:\t[0s / 1s],\t\ttrain_loss: 2.4065,\tval_loss: 3.7740\n",
      "22:\t[0s / 1s],\t\ttrain_loss: 2.4453,\tval_loss: 3.7224\n",
      "23:\t[0s / 1s],\t\ttrain_loss: 2.4129,\tval_loss: 3.7092\n",
      "24:\t[0s / 1s],\t\ttrain_loss: 2.4521,\tval_loss: 3.7177\n",
      "25:\t[0s / 1s],\t\ttrain_loss: 2.4145,\tval_loss: 3.7080\n",
      "26:\t[0s / 1s],\t\ttrain_loss: 2.3864,\tval_loss: 3.7129\n",
      "27:\t[0s / 1s],\t\ttrain_loss: 2.4432,\tval_loss: 3.8218\n",
      "28:\t[0s / 1s],\t\ttrain_loss: 2.4640,\tval_loss: 3.8382\n",
      "29:\t[0s / 1s],\t\ttrain_loss: 2.4615,\tval_loss: 3.7975\n",
      "30:\t[0s / 1s],\t\ttrain_loss: 2.4745,\tval_loss: 3.7360\n",
      "31:\t[0s / 1s],\t\ttrain_loss: 2.3726,\tval_loss: 3.7082\n",
      "32:\t[0s / 2s],\t\ttrain_loss: 2.5179,\tval_loss: 3.7201\n",
      "33:\t[0s / 2s],\t\ttrain_loss: 2.4148,\tval_loss: 3.7584\n",
      "34:\t[0s / 2s],\t\ttrain_loss: 2.3952,\tval_loss: 3.7128\n",
      "35:\t[0s / 2s],\t\ttrain_loss: 2.4110,\tval_loss: 3.7274\n"
     ]
    }
   ],
   "source": [
    "\n",
    "n = 2000\n",
    "d = 5\n",
    "typenum = 3\n",
    "df = WXYgeneration(n,d,typenum)\n",
    "df_train,df_val = train_test_split(df,test_size=0.2)\n",
    "df_test = WXYgeneration(5000,d,typenum)\n",
    "\n",
    "x_train_nonpar = torch.tensor(df_train.drop(columns=['Z', 'Y']).to_numpy().astype('float32'))\n",
    "x_val_nonpar = torch.tensor(df_val.drop(columns=['Z', 'Y']).to_numpy().astype('float32'))\n",
    "x_test_nonpar = torch.tensor(df_test.drop(columns=['Z', 'Y']).to_numpy().astype('float32'))\n",
    "\n",
    "x_train_lin = torch.tensor(df_train['Z'].values).view(len(df_train),1).type(torch.float32)\n",
    "x_val_lin = torch.tensor(df_val['Z'].values).view(len(df_val),1).type(torch.float32)\n",
    "x_test_lin = torch.tensor(df_test['Z'].values).view(len(df_test),1).type(torch.float32)\n",
    "\n",
    "y_train = torch.tensor(df_train['Y'].values).view(len(df_train),1).type(torch.float32)\n",
    "y_test = torch.tensor(df_test['Y'].values).view(len(df_test),1).type(torch.float32)\n",
    "y_val = torch.tensor(df_val['Y'].values).view(len(df_val),1).type(torch.float32)\n",
    "\n",
    "x_train = (x_train_lin,x_train_nonpar)\n",
    "x_test = (x_test_lin,x_test_nonpar)\n",
    "x_val = (x_val_lin,x_val_nonpar)\n",
    "val_data = (x_val,y_val)\n",
    "dim_lin,dim_nonpar=1,x_val_nonpar.shape[1]\n",
    "\n",
    "# Create a LinearRegression model\n",
    "model = LinearRegression()\n",
    "\n",
    "# Train the model\n",
    "model.fit(df_train.drop(columns=['Y']), df_train['Y'])\n",
    "paramsLin = model.coef_[-1]\n",
    "\n",
    "# hyperparameters\n",
    "batch_size = 128\n",
    "nodes = [5,128] # number of network layers and nodes per layer\n",
    "lr = 0.001\n",
    "epochs = 500\n",
    "verbose = 2\n",
    "sparseRatio = 0.5\n",
    "\n",
    "\n",
    "# training Partially Linear Quantile Regression (DPLQR)\n",
    "coef_init_weight = torch.tensor(paramsLin, dtype=y_train.dtype)\n",
    "loss = nn.MSELoss()\n",
    "model = Model(dqNetSparse(dim_lin, dim_nonpar, coef_init_weight, nodes, sparseRatio), loss)\n",
    "model.optimizer.set_lr(lr)\n",
    "callbacks = [tt.callbacks.EarlyStopping()]\n",
    "model.fit(x_train, y_train, batch_size, epochs, callbacks, verbose, val_data=val_data, val_batch_size=5*batch_size)\n",
    "weights = list(model.net.parameters())\n",
    "\n",
    "deepCoefEst=weights[0].detach().numpy()[0][0]"
   ]
  },
  {
   "cell_type": "code",
   "execution_count": 264,
   "id": "5428e16e",
   "metadata": {},
   "outputs": [
    {
     "data": {
      "text/plain": [
       "0.993858859666338"
      ]
     },
     "execution_count": 264,
     "metadata": {},
     "output_type": "execute_result"
    }
   ],
   "source": [
    "paramsLin"
   ]
  },
  {
   "cell_type": "code",
   "execution_count": 265,
   "id": "688c9e6e",
   "metadata": {},
   "outputs": [
    {
     "data": {
      "text/plain": [
       "0.99495703"
      ]
     },
     "execution_count": 265,
     "metadata": {},
     "output_type": "execute_result"
    }
   ],
   "source": [
    "deepCoefEst"
   ]
  },
  {
   "cell_type": "code",
   "execution_count": 267,
   "id": "2f44dfb7",
   "metadata": {},
   "outputs": [
    {
     "name": "stdout",
     "output_type": "stream",
     "text": [
      "0:\t[0s / 0s],\t\ttrain_loss: 3.2085,\tval_loss: 4.6129\n",
      "1:\t[0s / 0s],\t\ttrain_loss: 3.0598,\tval_loss: 4.4416\n",
      "2:\t[0s / 0s],\t\ttrain_loss: 2.9693,\tval_loss: 4.1277\n",
      "3:\t[0s / 0s],\t\ttrain_loss: 2.7532,\tval_loss: 3.9560\n",
      "4:\t[0s / 0s],\t\ttrain_loss: 2.6600,\tval_loss: 3.8329\n",
      "5:\t[0s / 0s],\t\ttrain_loss: 2.5708,\tval_loss: 3.7600\n",
      "6:\t[0s / 0s],\t\ttrain_loss: 2.5509,\tval_loss: 3.7685\n",
      "7:\t[0s / 0s],\t\ttrain_loss: 2.4854,\tval_loss: 3.7566\n",
      "8:\t[0s / 0s],\t\ttrain_loss: 2.4703,\tval_loss: 3.7664\n",
      "9:\t[0s / 0s],\t\ttrain_loss: 2.4704,\tval_loss: 3.8308\n",
      "10:\t[0s / 0s],\t\ttrain_loss: 2.5889,\tval_loss: 3.8728\n",
      "11:\t[0s / 0s],\t\ttrain_loss: 2.4797,\tval_loss: 3.7596\n",
      "12:\t[0s / 0s],\t\ttrain_loss: 2.4948,\tval_loss: 3.7683\n",
      "13:\t[0s / 0s],\t\ttrain_loss: 2.4612,\tval_loss: 3.7302\n",
      "14:\t[0s / 0s],\t\ttrain_loss: 2.4697,\tval_loss: 3.7228\n",
      "15:\t[0s / 1s],\t\ttrain_loss: 2.4579,\tval_loss: 3.7296\n",
      "16:\t[0s / 1s],\t\ttrain_loss: 2.4749,\tval_loss: 3.7843\n",
      "17:\t[0s / 1s],\t\ttrain_loss: 2.4540,\tval_loss: 3.8122\n",
      "18:\t[0s / 1s],\t\ttrain_loss: 2.4695,\tval_loss: 3.8429\n",
      "19:\t[0s / 1s],\t\ttrain_loss: 2.4159,\tval_loss: 3.7283\n",
      "20:\t[0s / 1s],\t\ttrain_loss: 2.5174,\tval_loss: 3.7178\n",
      "21:\t[0s / 1s],\t\ttrain_loss: 2.4771,\tval_loss: 3.7103\n",
      "22:\t[0s / 1s],\t\ttrain_loss: 2.4165,\tval_loss: 3.7529\n",
      "23:\t[0s / 1s],\t\ttrain_loss: 2.4313,\tval_loss: 3.7165\n",
      "24:\t[0s / 1s],\t\ttrain_loss: 2.4206,\tval_loss: 3.7860\n",
      "25:\t[0s / 1s],\t\ttrain_loss: 2.4583,\tval_loss: 3.7105\n",
      "26:\t[0s / 1s],\t\ttrain_loss: 2.4082,\tval_loss: 3.7755\n",
      "27:\t[0s / 1s],\t\ttrain_loss: 2.4274,\tval_loss: 3.8007\n",
      "28:\t[0s / 1s],\t\ttrain_loss: 2.4113,\tval_loss: 3.7556\n",
      "29:\t[0s / 1s],\t\ttrain_loss: 2.4481,\tval_loss: 3.6979\n",
      "30:\t[0s / 1s],\t\ttrain_loss: 2.4338,\tval_loss: 3.7055\n",
      "31:\t[0s / 2s],\t\ttrain_loss: 2.3859,\tval_loss: 3.7771\n",
      "32:\t[0s / 2s],\t\ttrain_loss: 2.3929,\tval_loss: 3.7646\n",
      "33:\t[0s / 2s],\t\ttrain_loss: 2.4137,\tval_loss: 3.7429\n",
      "34:\t[0s / 2s],\t\ttrain_loss: 2.4915,\tval_loss: 3.7955\n",
      "35:\t[0s / 2s],\t\ttrain_loss: 2.3998,\tval_loss: 3.7788\n",
      "36:\t[0s / 2s],\t\ttrain_loss: 2.3648,\tval_loss: 3.7349\n",
      "37:\t[0s / 2s],\t\ttrain_loss: 2.4265,\tval_loss: 3.6982\n",
      "38:\t[0s / 2s],\t\ttrain_loss: 2.3780,\tval_loss: 3.7311\n",
      "39:\t[0s / 2s],\t\ttrain_loss: 2.4028,\tval_loss: 3.7272\n",
      "0:\t[0s / 0s],\t\ttrain_loss: 23.7770,\tval_loss: 28.7552\n",
      "1:\t[0s / 0s],\t\ttrain_loss: 23.6686,\tval_loss: 28.7464\n",
      "2:\t[0s / 0s],\t\ttrain_loss: 23.7163,\tval_loss: 28.7463\n",
      "3:\t[0s / 0s],\t\ttrain_loss: 23.6269,\tval_loss: 28.7620\n",
      "4:\t[0s / 0s],\t\ttrain_loss: 23.6300,\tval_loss: 28.7616\n",
      "5:\t[0s / 0s],\t\ttrain_loss: 23.5654,\tval_loss: 28.7696\n",
      "6:\t[0s / 0s],\t\ttrain_loss: 23.5001,\tval_loss: 28.7669\n",
      "7:\t[0s / 0s],\t\ttrain_loss: 24.9665,\tval_loss: 28.7349\n",
      "8:\t[0s / 0s],\t\ttrain_loss: 23.5951,\tval_loss: 28.7555\n",
      "9:\t[0s / 0s],\t\ttrain_loss: 39.1729,\tval_loss: 28.7893\n",
      "10:\t[0s / 0s],\t\ttrain_loss: 23.6598,\tval_loss: 28.8121\n",
      "11:\t[0s / 0s],\t\ttrain_loss: 39.0842,\tval_loss: 28.7957\n",
      "12:\t[0s / 0s],\t\ttrain_loss: 23.6049,\tval_loss: 28.9035\n",
      "13:\t[0s / 0s],\t\ttrain_loss: 24.7846,\tval_loss: 28.7583\n",
      "14:\t[0s / 0s],\t\ttrain_loss: 23.4107,\tval_loss: 28.8862\n",
      "15:\t[0s / 0s],\t\ttrain_loss: 23.4495,\tval_loss: 28.7898\n",
      "16:\t[0s / 0s],\t\ttrain_loss: 23.5750,\tval_loss: 29.0561\n",
      "17:\t[0s / 0s],\t\ttrain_loss: 23.7146,\tval_loss: 28.8162\n"
     ]
    }
   ],
   "source": [
    "deepCoefEst, model = g_deepfit(df_train,x_train,y_train,dim_lin,dim_nonpar,sparseRatio,val_data,nodes,batch_size,lr,epochs,verbose)\n",
    "z_delta = m_deepfit(x_train,x_val,nodes,batch_size,lr,epochs,verbose)\n"
   ]
  },
  {
   "cell_type": "code",
   "execution_count": 273,
   "id": "6c27e7b5",
   "metadata": {},
   "outputs": [],
   "source": [
    "z_merge = z_merge.numpy()"
   ]
  },
  {
   "cell_type": "code",
   "execution_count": 271,
   "id": "45797c61",
   "metadata": {},
   "outputs": [
    {
     "name": "stdout",
     "output_type": "stream",
     "text": [
      "0:\t[0s / 0s],\t\ttrain_loss: 23.6258,\tval_loss: 28.7208\n",
      "1:\t[0s / 0s],\t\ttrain_loss: 23.8408,\tval_loss: 28.7272\n",
      "2:\t[0s / 0s],\t\ttrain_loss: 23.5243,\tval_loss: 28.7794\n",
      "3:\t[0s / 0s],\t\ttrain_loss: 23.5910,\tval_loss: 28.7818\n",
      "4:\t[0s / 0s],\t\ttrain_loss: 23.4791,\tval_loss: 28.7822\n",
      "5:\t[0s / 0s],\t\ttrain_loss: 23.5371,\tval_loss: 28.7976\n",
      "6:\t[0s / 0s],\t\ttrain_loss: 23.6329,\tval_loss: 28.7847\n",
      "7:\t[0s / 0s],\t\ttrain_loss: 23.6090,\tval_loss: 28.8232\n",
      "8:\t[0s / 0s],\t\ttrain_loss: 23.5294,\tval_loss: 28.8349\n",
      "9:\t[0s / 0s],\t\ttrain_loss: 23.5250,\tval_loss: 28.7627\n",
      "10:\t[0s / 0s],\t\ttrain_loss: 23.5845,\tval_loss: 28.8713\n"
     ]
    }
   ],
   "source": [
    "z_delta,z_merge = m_deepfit(x_train,x_val,nodes,batch_size,lr,epochs,verbose)"
   ]
  },
  {
   "cell_type": "code",
   "execution_count": 281,
   "id": "10acc17a",
   "metadata": {},
   "outputs": [
    {
     "ename": "NameError",
     "evalue": "name 'preds' is not defined",
     "output_type": "error",
     "traceback": [
      "\u001b[1;31m---------------------------------------------------------------------------\u001b[0m",
      "\u001b[1;31mNameError\u001b[0m                                 Traceback (most recent call last)",
      "Cell \u001b[1;32mIn[281], line 1\u001b[0m\n\u001b[1;32m----> 1\u001b[0m y_delta \u001b[38;5;241m=\u001b[39m (y_merge \u001b[38;5;241m-\u001b[39m \u001b[43mpreds\u001b[49m)\u001b[38;5;241m.\u001b[39mnumpy()\n",
      "\u001b[1;31mNameError\u001b[0m: name 'preds' is not defined"
     ]
    }
   ],
   "source": [
    "y_delta = (y_merge - preds).numpy()"
   ]
  },
  {
   "cell_type": "code",
   "execution_count": 285,
   "id": "930ddabf",
   "metadata": {},
   "outputs": [],
   "source": [
    "y_delta = (y_merge - preds).numpy()"
   ]
  },
  {
   "cell_type": "code",
   "execution_count": 299,
   "id": "5c239c3a",
   "metadata": {},
   "outputs": [],
   "source": [
    "def WXgeneration(n,d,typenum):\n",
    "    W = np.random.uniform(0,1,size = n)\n",
    "    # Generate error terms \n",
    "    v = stats.t.rvs(df=2, loc=0, scale=1, size=n)\n",
    "    if typenum == 1:\n",
    "        Z = np.array([m1(w) for w in W]) + v\n",
    "    elif typenum == 2:\n",
    "        Z = np.array([m2(w) for w in W]) + v\n",
    "    elif typenum == 3:\n",
    "        Z = np.array([m3(w) for w in W]) + v\n",
    "    else:\n",
    "        raise ValueError(\"Invalid type. Please choose type 1, 2, or 3.\")\n",
    "\n",
    "    # Create DataFrame\n",
    "    df = pd.DataFrame(W, columns=[f\"W{j}\" for j in range(1, d + 1)])\n",
    "    df['Z'] = Z\n",
    "\n",
    "    return df"
   ]
  },
  {
   "cell_type": "code",
   "execution_count": 306,
   "id": "13f84c3d",
   "metadata": {},
   "outputs": [],
   "source": [
    "\n",
    "def WXgeneration(n,d,typenum):\n",
    "    W = np.random.uniform(0,1,size = (n,d))\n",
    "    # Generate error terms\n",
    "    v = stats.t.rvs(df=2, loc=0, scale=1, size=n)\n",
    "    if typenum == 1:\n",
    "        Z = np.array([m1(w) for w in W]) + v\n",
    "    elif typenum == 2:\n",
    "        Z = np.array([m2(w) for w in W]) + v\n",
    "    elif typenum == 3:\n",
    "        Z = np.array([m3(w) for w in W]) + v\n",
    "    else:\n",
    "        raise ValueError(\"Invalid type. Please choose type 1, 2, or 3.\")\n",
    "\n",
    "    # Create DataFrame\n",
    "    df = pd.DataFrame(W, columns=[f\"W{j}\" for j in range(1, d + 1)])\n",
    "    df['Z'] = Z\n",
    "\n",
    "    return df"
   ]
  },
  {
   "cell_type": "code",
   "execution_count": 307,
   "id": "b3ef4f2f",
   "metadata": {},
   "outputs": [],
   "source": [
    "df_unlabel = WXgeneration(n,d,typenum)"
   ]
  },
  {
   "cell_type": "code",
   "execution_count": 308,
   "id": "1bd8fc22",
   "metadata": {},
   "outputs": [
    {
     "data": {
      "text/html": [
       "<div>\n",
       "<style scoped>\n",
       "    .dataframe tbody tr th:only-of-type {\n",
       "        vertical-align: middle;\n",
       "    }\n",
       "\n",
       "    .dataframe tbody tr th {\n",
       "        vertical-align: top;\n",
       "    }\n",
       "\n",
       "    .dataframe thead th {\n",
       "        text-align: right;\n",
       "    }\n",
       "</style>\n",
       "<table border=\"1\" class=\"dataframe\">\n",
       "  <thead>\n",
       "    <tr style=\"text-align: right;\">\n",
       "      <th></th>\n",
       "      <th>W1</th>\n",
       "      <th>W2</th>\n",
       "      <th>W3</th>\n",
       "      <th>W4</th>\n",
       "      <th>W5</th>\n",
       "      <th>Z</th>\n",
       "    </tr>\n",
       "  </thead>\n",
       "  <tbody>\n",
       "    <tr>\n",
       "      <th>0</th>\n",
       "      <td>0.182126</td>\n",
       "      <td>0.705036</td>\n",
       "      <td>0.605630</td>\n",
       "      <td>0.577382</td>\n",
       "      <td>0.515087</td>\n",
       "      <td>-0.103836</td>\n",
       "    </tr>\n",
       "    <tr>\n",
       "      <th>1</th>\n",
       "      <td>0.073311</td>\n",
       "      <td>0.717807</td>\n",
       "      <td>0.152682</td>\n",
       "      <td>0.420476</td>\n",
       "      <td>0.720257</td>\n",
       "      <td>-0.824600</td>\n",
       "    </tr>\n",
       "    <tr>\n",
       "      <th>2</th>\n",
       "      <td>0.131697</td>\n",
       "      <td>0.995636</td>\n",
       "      <td>0.487351</td>\n",
       "      <td>0.262571</td>\n",
       "      <td>0.636707</td>\n",
       "      <td>-0.033877</td>\n",
       "    </tr>\n",
       "    <tr>\n",
       "      <th>3</th>\n",
       "      <td>0.036318</td>\n",
       "      <td>0.047510</td>\n",
       "      <td>0.522354</td>\n",
       "      <td>0.821338</td>\n",
       "      <td>0.861367</td>\n",
       "      <td>-0.146784</td>\n",
       "    </tr>\n",
       "    <tr>\n",
       "      <th>4</th>\n",
       "      <td>0.508992</td>\n",
       "      <td>0.492400</td>\n",
       "      <td>0.276370</td>\n",
       "      <td>0.465576</td>\n",
       "      <td>0.024046</td>\n",
       "      <td>3.269712</td>\n",
       "    </tr>\n",
       "    <tr>\n",
       "      <th>...</th>\n",
       "      <td>...</td>\n",
       "      <td>...</td>\n",
       "      <td>...</td>\n",
       "      <td>...</td>\n",
       "      <td>...</td>\n",
       "      <td>...</td>\n",
       "    </tr>\n",
       "    <tr>\n",
       "      <th>1995</th>\n",
       "      <td>0.424737</td>\n",
       "      <td>0.287737</td>\n",
       "      <td>0.620835</td>\n",
       "      <td>0.611959</td>\n",
       "      <td>0.266815</td>\n",
       "      <td>1.411615</td>\n",
       "    </tr>\n",
       "    <tr>\n",
       "      <th>1996</th>\n",
       "      <td>0.640607</td>\n",
       "      <td>0.233286</td>\n",
       "      <td>0.657402</td>\n",
       "      <td>0.976497</td>\n",
       "      <td>0.143034</td>\n",
       "      <td>-0.220037</td>\n",
       "    </tr>\n",
       "    <tr>\n",
       "      <th>1997</th>\n",
       "      <td>0.287611</td>\n",
       "      <td>0.343185</td>\n",
       "      <td>0.069774</td>\n",
       "      <td>0.164646</td>\n",
       "      <td>0.846802</td>\n",
       "      <td>-0.062164</td>\n",
       "    </tr>\n",
       "    <tr>\n",
       "      <th>1998</th>\n",
       "      <td>0.899277</td>\n",
       "      <td>0.393960</td>\n",
       "      <td>0.649641</td>\n",
       "      <td>0.185577</td>\n",
       "      <td>0.433956</td>\n",
       "      <td>-0.118594</td>\n",
       "    </tr>\n",
       "    <tr>\n",
       "      <th>1999</th>\n",
       "      <td>0.742218</td>\n",
       "      <td>0.058224</td>\n",
       "      <td>0.703160</td>\n",
       "      <td>0.246117</td>\n",
       "      <td>0.903505</td>\n",
       "      <td>0.557061</td>\n",
       "    </tr>\n",
       "  </tbody>\n",
       "</table>\n",
       "<p>2000 rows × 6 columns</p>\n",
       "</div>"
      ],
      "text/plain": [
       "            W1        W2        W3        W4        W5         Z\n",
       "0     0.182126  0.705036  0.605630  0.577382  0.515087 -0.103836\n",
       "1     0.073311  0.717807  0.152682  0.420476  0.720257 -0.824600\n",
       "2     0.131697  0.995636  0.487351  0.262571  0.636707 -0.033877\n",
       "3     0.036318  0.047510  0.522354  0.821338  0.861367 -0.146784\n",
       "4     0.508992  0.492400  0.276370  0.465576  0.024046  3.269712\n",
       "...        ...       ...       ...       ...       ...       ...\n",
       "1995  0.424737  0.287737  0.620835  0.611959  0.266815  1.411615\n",
       "1996  0.640607  0.233286  0.657402  0.976497  0.143034 -0.220037\n",
       "1997  0.287611  0.343185  0.069774  0.164646  0.846802 -0.062164\n",
       "1998  0.899277  0.393960  0.649641  0.185577  0.433956 -0.118594\n",
       "1999  0.742218  0.058224  0.703160  0.246117  0.903505  0.557061\n",
       "\n",
       "[2000 rows x 6 columns]"
      ]
     },
     "execution_count": 308,
     "metadata": {},
     "output_type": "execute_result"
    }
   ],
   "source": [
    "df_unlabel"
   ]
  },
  {
   "cell_type": "code",
   "execution_count": 312,
   "id": "22f6077b",
   "metadata": {},
   "outputs": [
    {
     "data": {
      "text/html": [
       "<div>\n",
       "<style scoped>\n",
       "    .dataframe tbody tr th:only-of-type {\n",
       "        vertical-align: middle;\n",
       "    }\n",
       "\n",
       "    .dataframe tbody tr th {\n",
       "        vertical-align: top;\n",
       "    }\n",
       "\n",
       "    .dataframe thead th {\n",
       "        text-align: right;\n",
       "    }\n",
       "</style>\n",
       "<table border=\"1\" class=\"dataframe\">\n",
       "  <thead>\n",
       "    <tr style=\"text-align: right;\">\n",
       "      <th></th>\n",
       "      <th>W1</th>\n",
       "      <th>W2</th>\n",
       "      <th>W3</th>\n",
       "      <th>W4</th>\n",
       "      <th>W5</th>\n",
       "      <th>Z</th>\n",
       "      <th>Y</th>\n",
       "    </tr>\n",
       "  </thead>\n",
       "  <tbody>\n",
       "    <tr>\n",
       "      <th>0</th>\n",
       "      <td>0.028288</td>\n",
       "      <td>0.063519</td>\n",
       "      <td>0.146434</td>\n",
       "      <td>0.099195</td>\n",
       "      <td>0.113721</td>\n",
       "      <td>-0.940675</td>\n",
       "      <td>1.980789</td>\n",
       "    </tr>\n",
       "    <tr>\n",
       "      <th>1</th>\n",
       "      <td>0.346075</td>\n",
       "      <td>0.889532</td>\n",
       "      <td>0.355796</td>\n",
       "      <td>0.753103</td>\n",
       "      <td>0.859630</td>\n",
       "      <td>-0.269944</td>\n",
       "      <td>-1.128505</td>\n",
       "    </tr>\n",
       "    <tr>\n",
       "      <th>2</th>\n",
       "      <td>0.228886</td>\n",
       "      <td>0.950133</td>\n",
       "      <td>0.759375</td>\n",
       "      <td>0.712147</td>\n",
       "      <td>0.829649</td>\n",
       "      <td>-0.137361</td>\n",
       "      <td>-1.057112</td>\n",
       "    </tr>\n",
       "    <tr>\n",
       "      <th>3</th>\n",
       "      <td>0.977934</td>\n",
       "      <td>0.935355</td>\n",
       "      <td>0.727733</td>\n",
       "      <td>0.817390</td>\n",
       "      <td>0.628250</td>\n",
       "      <td>2.243296</td>\n",
       "      <td>2.825422</td>\n",
       "    </tr>\n",
       "    <tr>\n",
       "      <th>4</th>\n",
       "      <td>0.918715</td>\n",
       "      <td>0.591772</td>\n",
       "      <td>0.658769</td>\n",
       "      <td>0.393925</td>\n",
       "      <td>0.917530</td>\n",
       "      <td>1.117078</td>\n",
       "      <td>-0.525148</td>\n",
       "    </tr>\n",
       "    <tr>\n",
       "      <th>...</th>\n",
       "      <td>...</td>\n",
       "      <td>...</td>\n",
       "      <td>...</td>\n",
       "      <td>...</td>\n",
       "      <td>...</td>\n",
       "      <td>...</td>\n",
       "      <td>...</td>\n",
       "    </tr>\n",
       "    <tr>\n",
       "      <th>1995</th>\n",
       "      <td>0.424737</td>\n",
       "      <td>0.287737</td>\n",
       "      <td>0.620835</td>\n",
       "      <td>0.611959</td>\n",
       "      <td>0.266815</td>\n",
       "      <td>1.411615</td>\n",
       "      <td>NaN</td>\n",
       "    </tr>\n",
       "    <tr>\n",
       "      <th>1996</th>\n",
       "      <td>0.640607</td>\n",
       "      <td>0.233286</td>\n",
       "      <td>0.657402</td>\n",
       "      <td>0.976497</td>\n",
       "      <td>0.143034</td>\n",
       "      <td>-0.220037</td>\n",
       "      <td>NaN</td>\n",
       "    </tr>\n",
       "    <tr>\n",
       "      <th>1997</th>\n",
       "      <td>0.287611</td>\n",
       "      <td>0.343185</td>\n",
       "      <td>0.069774</td>\n",
       "      <td>0.164646</td>\n",
       "      <td>0.846802</td>\n",
       "      <td>-0.062164</td>\n",
       "      <td>NaN</td>\n",
       "    </tr>\n",
       "    <tr>\n",
       "      <th>1998</th>\n",
       "      <td>0.899277</td>\n",
       "      <td>0.393960</td>\n",
       "      <td>0.649641</td>\n",
       "      <td>0.185577</td>\n",
       "      <td>0.433956</td>\n",
       "      <td>-0.118594</td>\n",
       "      <td>NaN</td>\n",
       "    </tr>\n",
       "    <tr>\n",
       "      <th>1999</th>\n",
       "      <td>0.742218</td>\n",
       "      <td>0.058224</td>\n",
       "      <td>0.703160</td>\n",
       "      <td>0.246117</td>\n",
       "      <td>0.903505</td>\n",
       "      <td>0.557061</td>\n",
       "      <td>NaN</td>\n",
       "    </tr>\n",
       "  </tbody>\n",
       "</table>\n",
       "<p>4000 rows × 7 columns</p>\n",
       "</div>"
      ],
      "text/plain": [
       "            W1        W2        W3        W4        W5         Z         Y\n",
       "0     0.028288  0.063519  0.146434  0.099195  0.113721 -0.940675  1.980789\n",
       "1     0.346075  0.889532  0.355796  0.753103  0.859630 -0.269944 -1.128505\n",
       "2     0.228886  0.950133  0.759375  0.712147  0.829649 -0.137361 -1.057112\n",
       "3     0.977934  0.935355  0.727733  0.817390  0.628250  2.243296  2.825422\n",
       "4     0.918715  0.591772  0.658769  0.393925  0.917530  1.117078 -0.525148\n",
       "...        ...       ...       ...       ...       ...       ...       ...\n",
       "1995  0.424737  0.287737  0.620835  0.611959  0.266815  1.411615       NaN\n",
       "1996  0.640607  0.233286  0.657402  0.976497  0.143034 -0.220037       NaN\n",
       "1997  0.287611  0.343185  0.069774  0.164646  0.846802 -0.062164       NaN\n",
       "1998  0.899277  0.393960  0.649641  0.185577  0.433956 -0.118594       NaN\n",
       "1999  0.742218  0.058224  0.703160  0.246117  0.903505  0.557061       NaN\n",
       "\n",
       "[4000 rows x 7 columns]"
      ]
     },
     "execution_count": 312,
     "metadata": {},
     "output_type": "execute_result"
    }
   ],
   "source": [
    "pd.concat([df, df_unlabel],axis = 0)"
   ]
  },
  {
   "cell_type": "code",
   "execution_count": 315,
   "id": "eaed9664",
   "metadata": {},
   "outputs": [
    {
     "name": "stdout",
     "output_type": "stream",
     "text": [
      "0:\t[0s / 0s],\t\ttrain_loss: 15.3620,\tval_loss: 28.7969\n",
      "1:\t[0s / 0s],\t\ttrain_loss: 15.3476,\tval_loss: 28.7446\n",
      "2:\t[0s / 0s],\t\ttrain_loss: 15.3454,\tval_loss: 28.7588\n",
      "3:\t[0s / 0s],\t\ttrain_loss: 15.3388,\tval_loss: 28.7215\n",
      "4:\t[0s / 0s],\t\ttrain_loss: 15.3329,\tval_loss: 28.7782\n",
      "5:\t[0s / 0s],\t\ttrain_loss: 15.3386,\tval_loss: 28.7486\n",
      "6:\t[0s / 0s],\t\ttrain_loss: 15.3218,\tval_loss: 28.8142\n",
      "7:\t[0s / 0s],\t\ttrain_loss: 15.3286,\tval_loss: 28.7628\n",
      "8:\t[0s / 0s],\t\ttrain_loss: 15.3322,\tval_loss: 28.7759\n",
      "9:\t[0s / 0s],\t\ttrain_loss: 15.3170,\tval_loss: 28.7858\n",
      "10:\t[0s / 0s],\t\ttrain_loss: 15.3028,\tval_loss: 28.8124\n",
      "11:\t[0s / 0s],\t\ttrain_loss: 15.3098,\tval_loss: 28.9090\n",
      "12:\t[0s / 0s],\t\ttrain_loss: 15.2834,\tval_loss: 28.7524\n",
      "13:\t[0s / 1s],\t\ttrain_loss: 15.2962,\tval_loss: 28.8292\n"
     ]
    }
   ],
   "source": [
    "n_unlabel = n*int(math.sqrt(n))\n",
    "df_unlabel = WXgeneration(n,d,typenum)\n",
    "df_ss = pd.concat([df, df_unlabel],axis = 0)\n",
    "df_ss_train,df_ss_val = train_test_split(df_ss,test_size=0.2)\n",
    "\n",
    "x_ss_train_nonpar = torch.tensor(df_ss_train.drop(columns=['Z', 'Y']).to_numpy().astype('float32'))\n",
    "x_ss_val_nonpar = torch.tensor(df_ss_val.drop(columns=['Z', 'Y']).to_numpy().astype('float32'))\n",
    "x_ss_train_lin = torch.tensor(df_ss_train['Z'].values).view(len(df_ss_train),1).type(torch.float32)\n",
    "x_ss_val_lin = torch.tensor(df_ss_val['Z'].values).view(len(df_ss_val),1).type(torch.float32)\n",
    "\n",
    "x_ss_train = (x_ss_train_lin,x_ss_train_nonpar)\n",
    "x_ss_val = (x_val_lin,x_val_nonpar)\n",
    "\n",
    "z_ss_delta,z_ss_merge,model_ss_m = m_deepfit(x_ss_train,x_ss_val,nodes,batch_size,lr,epochs,verbose)"
   ]
  },
  {
   "cell_type": "code",
   "execution_count": 318,
   "id": "e10e5635",
   "metadata": {},
   "outputs": [
    {
     "name": "stdout",
     "output_type": "stream",
     "text": [
      "0:\t[0s / 0s],\t\ttrain_loss: 15.3588,\tval_loss: 28.7238\n",
      "1:\t[0s / 0s],\t\ttrain_loss: 15.3438,\tval_loss: 28.7450\n",
      "2:\t[0s / 0s],\t\ttrain_loss: 15.3371,\tval_loss: 28.7619\n",
      "3:\t[0s / 0s],\t\ttrain_loss: 15.3390,\tval_loss: 28.8072\n",
      "4:\t[0s / 0s],\t\ttrain_loss: 15.3226,\tval_loss: 28.8174\n",
      "5:\t[0s / 0s],\t\ttrain_loss: 15.3259,\tval_loss: 28.8193\n",
      "6:\t[0s / 0s],\t\ttrain_loss: 15.3261,\tval_loss: 28.7621\n",
      "7:\t[0s / 0s],\t\ttrain_loss: 15.3042,\tval_loss: 28.8158\n",
      "8:\t[0s / 0s],\t\ttrain_loss: 15.3015,\tval_loss: 28.8835\n",
      "9:\t[0s / 0s],\t\ttrain_loss: 15.3062,\tval_loss: 28.8382\n",
      "10:\t[0s / 0s],\t\ttrain_loss: 15.2934,\tval_loss: 28.8399\n"
     ]
    }
   ],
   "source": [
    "z_ss_delta,z_ss_merge,model_ss_m = m_deepfit(x_ss_train,x_ss_val,nodes,batch_size,lr,epochs,verbose)\n",
    "x_labeled = torch.tensor(df.drop(columns=['Z','Y']).to_numpy().astype('float32'))\n",
    "z_labeled = torch.tensor(df['Z'].values).view(len(df),1).type(torch.float32)\n",
    "z_labeled_delta = (z_labeled - model_ss_m.predict(x_labeled)).numpy()\n"
   ]
  },
  {
   "cell_type": "code",
   "execution_count": 319,
   "id": "cafaabc0",
   "metadata": {},
   "outputs": [
    {
     "data": {
      "text/plain": [
       "(2000, 1)"
      ]
     },
     "execution_count": 319,
     "metadata": {},
     "output_type": "execute_result"
    }
   ],
   "source": [
    "z_labeled_delta.shape"
   ]
  },
  {
   "cell_type": "code",
   "execution_count": 298,
   "id": "d72f7e56",
   "metadata": {},
   "outputs": [
    {
     "data": {
      "text/plain": [
       "0.9946609"
      ]
     },
     "execution_count": 298,
     "metadata": {},
     "output_type": "execute_result"
    }
   ],
   "source": [
    "deepCoefEst"
   ]
  },
  {
   "cell_type": "code",
   "execution_count": 297,
   "id": "cc1d78bc",
   "metadata": {},
   "outputs": [
    {
     "data": {
      "text/plain": [
       "1.0015007"
      ]
     },
     "execution_count": 297,
     "metadata": {},
     "output_type": "execute_result"
    }
   ],
   "source": [
    "DMLCoefEst"
   ]
  },
  {
   "cell_type": "code",
   "execution_count": 326,
   "id": "f92a26ef",
   "metadata": {},
   "outputs": [],
   "source": [
    "DMLCoefEst =   np.mean(z_delta * y_delta) / np.mean(z_delta * z_merge)"
   ]
  },
  {
   "cell_type": "code",
   "execution_count": 346,
   "id": "491775d4",
   "metadata": {},
   "outputs": [],
   "source": [
    "verbose = 0"
   ]
  },
  {
   "cell_type": "code",
   "execution_count": 347,
   "id": "5b0fe46c",
   "metadata": {},
   "outputs": [],
   "source": [
    "n_unlabel = n*int(math.sqrt(n))\n",
    "df_unlabel = WXgeneration(n,d,typenum)\n",
    "df_ss = pd.concat([df, df_unlabel],axis = 0)\n",
    "df_ss_train,df_ss_val = train_test_split(df_ss,test_size=0.2)\n",
    "\n",
    "x_ss_train_nonpar = torch.tensor(df_ss_train.drop(columns=['Z', 'Y']).to_numpy().astype('float32'))\n",
    "x_ss_val_nonpar = torch.tensor(df_ss_val.drop(columns=['Z', 'Y']).to_numpy().astype('float32'))\n",
    "x_ss_train_lin = torch.tensor(df_ss_train['Z'].values).view(len(df_ss_train),1).type(torch.float32)\n",
    "x_ss_val_lin = torch.tensor(df_ss_val['Z'].values).view(len(df_ss_val),1).type(torch.float32)\n",
    "\n",
    "x_ss_train = (x_ss_train_lin,x_ss_train_nonpar)\n",
    "x_ss_val = (x_val_lin,x_val_nonpar)\n",
    "\n",
    "z_ss_delta,z_ss_merge,model_ss_m = m_deepfit(x_ss_train,x_ss_val,nodes,batch_size,lr,epochs,verbose)\n",
    "x_labeled = torch.tensor(df.drop(columns=['Z','Y']).to_numpy().astype('float32'))\n",
    "z_labeled = torch.tensor(df['Z'].values).view(len(df),1).type(torch.float32)\n",
    "z_labeled_delta = (z_labeled - model_ss_m.predict(x_labeled)).numpy()\n",
    "z_labeled = z_labeled.numpy()"
   ]
  },
  {
   "cell_type": "code",
   "execution_count": 429,
   "id": "4445ca4c",
   "metadata": {},
   "outputs": [
    {
     "data": {
      "text/plain": [
       "1.2265478266723342"
      ]
     },
     "execution_count": 429,
     "metadata": {},
     "output_type": "execute_result"
    }
   ],
   "source": [
    "df_train, df_val = train_test_split(df, test_size=0.2)\n",
    "model = LinearRegression()\n",
    "\n",
    "# Train the model\n",
    "model.fit(df_train.drop(columns=['Y']), df_train['Y'])\n",
    "paramsLin = model.coef_[-1]\n",
    "paramsLin"
   ]
  },
  {
   "cell_type": "code",
   "execution_count": 440,
   "id": "8549fa2f",
   "metadata": {},
   "outputs": [],
   "source": [
    "n = 500\n",
    "d = 15\n",
    "typenum = 3"
   ]
  },
  {
   "cell_type": "code",
   "execution_count": 443,
   "id": "a3f2435f",
   "metadata": {},
   "outputs": [],
   "source": [
    "device = torch.device('cuda' if torch.cuda.is_available() else 'cpu')"
   ]
  },
  {
   "cell_type": "code",
   "execution_count": 444,
   "id": "d926e7d9",
   "metadata": {},
   "outputs": [
    {
     "data": {
      "text/plain": [
       "device(type='cpu')"
      ]
     },
     "execution_count": 444,
     "metadata": {},
     "output_type": "execute_result"
    }
   ],
   "source": [
    "device"
   ]
  },
  {
   "cell_type": "code",
   "execution_count": 441,
   "id": "dedb065f",
   "metadata": {},
   "outputs": [],
   "source": [
    "paramsLin, deepCoefEst, DMLCoefEst, SSDMLCoefEst = Single_trial(n,d,typenum,batch_size,nodes,lr,epochs,verbose,sparseRatio)"
   ]
  },
  {
   "cell_type": "code",
   "execution_count": 442,
   "id": "e6034867",
   "metadata": {},
   "outputs": [
    {
     "name": "stdout",
     "output_type": "stream",
     "text": [
      "1.8078729684097332\n",
      "1.7579889\n",
      "0.75270617\n",
      "0.78333914\n"
     ]
    }
   ],
   "source": [
    "print(paramsLin)\n",
    "print(deepCoefEst)\n",
    "print(DMLCoefEst)\n",
    "print(SSDMLCoefEst)"
   ]
  },
  {
   "cell_type": "code",
   "execution_count": 343,
   "id": "0334ffed",
   "metadata": {},
   "outputs": [],
   "source": [
    "x_labeled_train = x_train[1]\n",
    "x_labeled_val = x_val[1]\n",
    "x_labeled = torch.cat((x_labeled_train,x_labeled_val),dim=0)\n",
    "z_labeled_train = (x_train[0]).view(x_train[0].size()[0],1)\n",
    "z_labeled_val = (x_val[0]).view(x_val[0].size()[0],1)\n",
    "z_labeled = torch.cat((z_labeled_train,z_labeled_val),dim=0)\n",
    "z_labeled_delta = (z_labeled - model_ss_m.predict(x_labeled)).numpy()\n",
    "z_labeled = z_labeled.numpy()\n",
    "SSDMLCoefEst =   np.mean(z_labeled_delta * y_delta) / np.mean(z_labeled_delta * z_labeled)\n"
   ]
  },
  {
   "cell_type": "code",
   "execution_count": 344,
   "id": "dbb5cd4f",
   "metadata": {},
   "outputs": [
    {
     "data": {
      "text/plain": [
       "1.0058291"
      ]
     },
     "execution_count": 344,
     "metadata": {},
     "output_type": "execute_result"
    }
   ],
   "source": [
    "SSDMLCoefEst"
   ]
  },
  {
   "cell_type": "code",
   "execution_count": 336,
   "id": "76ee817e",
   "metadata": {},
   "outputs": [
    {
     "data": {
      "text/plain": [
       "array([[-0.01936181],\n",
       "       [-2.956221  ],\n",
       "       [-0.7126476 ],\n",
       "       [ 1.0401571 ],\n",
       "       [-0.4676155 ],\n",
       "       [ 3.6208308 ],\n",
       "       [ 0.39294863],\n",
       "       [-0.74710864],\n",
       "       [-0.46995282]], dtype=float32)"
      ]
     },
     "execution_count": 336,
     "metadata": {},
     "output_type": "execute_result"
    }
   ],
   "source": [
    "z_merge[1:10,:]"
   ]
  },
  {
   "cell_type": "code",
   "execution_count": 333,
   "id": "792660ab",
   "metadata": {},
   "outputs": [
    {
     "data": {
      "text/plain": [
       "array([[ 0.4480143 ],\n",
       "       [ 0.2505819 ],\n",
       "       [-2.8188596 ],\n",
       "       ...,\n",
       "       [-1.8950634 ],\n",
       "       [ 0.882874  ],\n",
       "       [ 0.79095995]], dtype=float32)"
      ]
     },
     "execution_count": 333,
     "metadata": {},
     "output_type": "execute_result"
    }
   ],
   "source": [
    "z_merge - z_labeled"
   ]
  },
  {
   "cell_type": "code",
   "execution_count": 116,
   "id": "845502bc",
   "metadata": {},
   "outputs": [
    {
     "name": "stdout",
     "output_type": "stream",
     "text": [
      "95% CI Area under DPLQR: 0.2223621286694169\n",
      "95% CI Area under LQR: 0.3364240113753357\n"
     ]
    }
   ],
   "source": [
    "# confidence intervals area via Riemann sum\n",
    "delta = tau_seq[1]-tau_seq[0]\n",
    "CIArea = ((resDeep['upperCI'] - resDeep['lowerCI'])*delta).sum()\n",
    "CIAreaLin = ((resLin['upperCI'] - resLin['lowerCI'])*delta).sum()\n",
    "print(\"95% CI Area under DPLQR:\",CIArea)\n",
    "print(\"95% CI Area under LQR:\",CIAreaLin)"
   ]
  },
  {
   "cell_type": "code",
   "execution_count": 117,
   "id": "03d61667",
   "metadata": {},
   "outputs": [
    {
     "name": "stdout",
     "output_type": "stream",
     "text": [
      "ACL under DPLQR: 0.058949435222893955\n",
      "ACL under LQR: 0.09680439909407373\n"
     ]
    }
   ],
   "source": [
    "# ACL\n",
    "acl = (resDeep['CL']*delta).sum()\n",
    "aclLin = (resLin['CL']*delta).sum()\n",
    "print('ACL under DPLQR:',acl)\n",
    "print('ACL under LQR:',aclLin)"
   ]
  },
  {
   "cell_type": "code",
   "execution_count": 118,
   "id": "93d9dfea",
   "metadata": {},
   "outputs": [],
   "source": [
    "# save for plot\n",
    "resDeep.to_csv('./data/resDeep.csv')\n",
    "resLin.to_csv('./data/resLin.csv')"
   ]
  },
  {
   "cell_type": "code",
   "execution_count": 119,
   "id": "8ba26e0a",
   "metadata": {},
   "outputs": [],
   "source": [
    "# save train and test data for PLAQR\n",
    "# which is implemented by R package plaqr\n",
    "df_train.to_csv(\"./data/df_train.csv\")\n",
    "df_test.to_csv(\"./data/df_test.csv\")"
   ]
  }
 ],
 "metadata": {
  "kernelspec": {
   "display_name": "Python 3 (ipykernel)",
   "language": "python",
   "name": "python3"
  },
  "language_info": {
   "codemirror_mode": {
    "name": "ipython",
    "version": 3
   },
   "file_extension": ".py",
   "mimetype": "text/x-python",
   "name": "python",
   "nbconvert_exporter": "python",
   "pygments_lexer": "ipython3",
   "version": "3.10.9"
  }
 },
 "nbformat": 4,
 "nbformat_minor": 5
}
